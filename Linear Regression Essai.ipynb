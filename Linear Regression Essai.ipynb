{
 "cells": [
  {
   "cell_type": "markdown",
   "id": "818fc104-13a7-4fec-a106-1c4ad9c7c019",
   "metadata": {
    "tags": []
   },
   "source": [
    "## Import Spark SQL, library machine learning, membuat session"
   ]
  },
  {
   "cell_type": "code",
   "execution_count": 6,
   "id": "01cffeb8-2fa8-41c0-95d7-f2e272ecaa4c",
   "metadata": {},
   "outputs": [],
   "source": [
    "from pyspark.sql import SparkSession\n",
    "from pyspark.sql.types import *\n",
    "from pyspark.sql.functions import *\n",
    "from pyspark.ml.regression import LinearRegression \n",
    "from pyspark.ml.feature import HashingTF, Tokenizer, StopWordsRemover \n",
    "\n",
    "# membuat session \n",
    "appName = \"Automated Scoring System menggunakan PySpark\"\n",
    "spark = SparkSession\\\n",
    ".builder\\\n",
    ".appName(appName)\\\n",
    ".config(\"spark.some.config.option\",\"some-value\").getOrCreate()"
   ]
  },
  {
   "cell_type": "markdown",
   "id": "76c68ffa-8a4d-4d6e-9f60-7690ee382850",
   "metadata": {
    "tags": []
   },
   "source": [
    "## Memuat data file "
   ]
  },
  {
   "cell_type": "code",
   "execution_count": 7,
   "id": "4f8245cd-5809-4245-8c0d-520be42a82ff",
   "metadata": {},
   "outputs": [
    {
     "name": "stdout",
     "output_type": "stream",
     "text": [
      "+----------+------------+--------------------+----+-------------+\n",
      "|       npm|nama_peserta|             jawaban|soal|skor_per_soal|\n",
      "+----------+------------+--------------------+----+-------------+\n",
      "|         0|       Admin|Tidak, Hanya memb...|   1|          100|\n",
      "|         0|       Admin|Biaya dihitung be...|   2|          100|\n",
      "|         0|       Admin|Hak cipta adalah ...|   3|          100|\n",
      "|         0|       Admin|Dijelaskan kepada...|   4|          100|\n",
      "|         0|       Admin|1. Melindungi dan...|   5|          100|\n",
      "|         0|       Admin|Ruang Komputer, P...|   6|          100|\n",
      "|         0|       Admin|Aturlah posisi pe...|   7|          100|\n",
      "|         0|       Admin|Posisi Kepala dan...|   8|          100|\n",
      "|         0|       Admin|1. Kecocokan soft...|   9|          100|\n",
      "|         0|       Admin|1. Fokus dan expo...|  10|          100|\n",
      "|         0|       Admin|1. Peralatan yang...|  11|          100|\n",
      "|         0|       Admin|1. Dibuat grafik ...|  12|          100|\n",
      "|1121020033|          AP|tidak, cuma mengi...|   1|         52,7|\n",
      "|1121020033|          AP|biaya dihitung be...|   2|        42,86|\n",
      "|1121020033|          AP|hak membuat merup...|   3|        42,16|\n",
      "|1121020033|          AP|dipaparkan pada k...|   4|        27,19|\n",
      "|1121020033|          AP|1. mencegah serta...|   5|        44,14|\n",
      "|1121020033|          AP|ruang komputer, p...|   6|          100|\n",
      "|1121020033|          AP|aturlah posisi fi...|   7|        57,68|\n",
      "|1121020033|          AP|posisi kepala ser...|   8|        45,71|\n",
      "+----------+------------+--------------------+----+-------------+\n",
      "only showing top 20 rows\n",
      "\n"
     ]
    }
   ],
   "source": [
    "# membaca data dari file ke DataFrame dengan skema diinfer\n",
    "data_skor = spark.read.option (\"delimiter\", \";\").csv ('training_data_essay.csv', header = True)\n",
    "data_skor.show (truncate = True)"
   ]
  },
  {
   "cell_type": "markdown",
   "id": "e3a40be7-7b99-4590-94b9-238436e47255",
   "metadata": {
    "tags": []
   },
   "source": [
    "## Menyiapkan data "
   ]
  },
  {
   "cell_type": "code",
   "execution_count": 5,
   "id": "91555085-1f18-4f63-bc49-783c098a345d",
   "metadata": {},
   "outputs": [
    {
     "name": "stdout",
     "output_type": "stream",
     "text": [
      "Column: npm, Data Type: string\n",
      "Column: nama_peserta, Data Type: string\n",
      "Column: jawaban, Data Type: string\n",
      "Column: soal, Data Type: string\n",
      "Column: skor_per_soal, Data Type: string\n"
     ]
    }
   ],
   "source": [
    "data_types = data_skor.dtypes\n",
    "\n",
    "# Print the data types\n",
    "for col_name, data_type in data_types:\n",
    "  print(f\"Column: {col_name}, Data Type: {data_type}\")"
   ]
  },
  {
   "cell_type": "code",
   "execution_count": 10,
   "id": "6f4027c6-32ec-49ea-b72c-40ee1f6d34de",
   "metadata": {},
   "outputs": [],
   "source": [
    "from pyspark.sql.functions import col, regexp_replace\n",
    "\n",
    "# Assuming \"data_skor\" is your DataFrame and \"skor_per_soal\" is the column\n",
    "data = data_skor.select(\n",
    "    \"soal\",\n",
    "    \"jawaban\",\n",
    "    regexp_replace(col(\"skor_per_soal\"), r\",\", \".\").alias(\"label\")\n",
    ")"
   ]
  },
  {
   "cell_type": "code",
   "execution_count": 11,
   "id": "106ea376-3bb8-4b1a-8835-7e69f58b43d2",
   "metadata": {},
   "outputs": [
    {
     "name": "stdout",
     "output_type": "stream",
     "text": [
      "+----+--------------------+-----+\n",
      "|soal|             jawaban|label|\n",
      "+----+--------------------+-----+\n",
      "|   1|Tidak, Hanya memb...|  100|\n",
      "|   2|Biaya dihitung be...|  100|\n",
      "|   3|Hak cipta adalah ...|  100|\n",
      "|   4|Dijelaskan kepada...|  100|\n",
      "|   5|1. Melindungi dan...|  100|\n",
      "|   6|Ruang Komputer, P...|  100|\n",
      "|   7|Aturlah posisi pe...|  100|\n",
      "|   8|Posisi Kepala dan...|  100|\n",
      "|   9|1. Kecocokan soft...|  100|\n",
      "|  10|1. Fokus dan expo...|  100|\n",
      "|  11|1. Peralatan yang...|  100|\n",
      "|  12|1. Dibuat grafik ...|  100|\n",
      "|   1|tidak, cuma mengi...| 52.7|\n",
      "|   2|biaya dihitung be...|42.86|\n",
      "|   3|hak membuat merup...|42.16|\n",
      "|   4|dipaparkan pada k...|27.19|\n",
      "|   5|1. mencegah serta...|44.14|\n",
      "|   6|ruang komputer, p...|  100|\n",
      "|   7|aturlah posisi fi...|57.68|\n",
      "|   8|posisi kepala ser...|45.71|\n",
      "+----+--------------------+-----+\n",
      "only showing top 20 rows\n",
      "\n"
     ]
    }
   ],
   "source": [
    "data.show ()"
   ]
  },
  {
   "cell_type": "code",
   "execution_count": 15,
   "id": "0881f24b-d820-4757-9a41-638098bc29ac",
   "metadata": {},
   "outputs": [
    {
     "name": "stdout",
     "output_type": "stream",
     "text": [
      "Column: soal, Data Type: string\n",
      "Column: jawaban, Data Type: string\n",
      "Column: label, Data Type: string\n"
     ]
    }
   ],
   "source": [
    "data_types1 = data.dtypes\n",
    "\n",
    "# Print the data types\n",
    "for col_name, data_type1 in data_types1:\n",
    "    print(f\"Column: {col_name}, Data Type: {data_type1}\")"
   ]
  },
  {
   "cell_type": "code",
   "execution_count": 56,
   "id": "eddac348-5f89-4c07-862d-5936cb4184ec",
   "metadata": {},
   "outputs": [
    {
     "name": "stdout",
     "output_type": "stream",
     "text": [
      "+----+--------------------+-----+\n",
      "|soal|             jawaban|label|\n",
      "+----+--------------------+-----+\n",
      "|   1|Tidak, Hanya memb...|100.0|\n",
      "|   2|Biaya dihitung be...|100.0|\n",
      "|   3|Hak cipta adalah ...|100.0|\n",
      "|   4|Dijelaskan kepada...|100.0|\n",
      "|   5|1. Melindungi dan...|100.0|\n",
      "|   6|Ruang Komputer, P...|100.0|\n",
      "|   7|Aturlah posisi pe...|100.0|\n",
      "|   8|Posisi Kepala dan...|100.0|\n",
      "|   9|1. Kecocokan soft...|100.0|\n",
      "|  10|1. Fokus dan expo...|100.0|\n",
      "|  11|1. Peralatan yang...|100.0|\n",
      "|  12|1. Dibuat grafik ...|100.0|\n",
      "|   1|tidak, cuma mengi...| 52.7|\n",
      "|   2|biaya dihitung be...|42.86|\n",
      "|   3|hak membuat merup...|42.16|\n",
      "|   4|dipaparkan pada k...|27.19|\n",
      "|   5|1. mencegah serta...|44.14|\n",
      "|   6|ruang komputer, p...|100.0|\n",
      "|   7|aturlah posisi fi...|57.68|\n",
      "|   8|posisi kepala ser...|45.71|\n",
      "+----+--------------------+-----+\n",
      "only showing top 20 rows\n",
      "\n"
     ]
    }
   ],
   "source": [
    "# memilih data dari kolom \"jawaban\" dan kolom \"skor_per_soal\"\n",
    "# kemudian meng-casting nilai di kolom \"skor_per_soal\" ke tipe integer dan mengganti nama menjadi \"label\"\n",
    "data1 = data.select( col('soal').cast(\"int\"), \"jawaban\",col(\"label\").cast(\"float\").alias (\"label\"))\n",
    "data1.show (truncate= True)"
   ]
  },
  {
   "cell_type": "markdown",
   "id": "ef1884a9-9749-44f8-8c49-a6c3be3736c7",
   "metadata": {
    "tags": []
   },
   "source": [
    "## Memisahkan data training dan testing"
   ]
  },
  {
   "cell_type": "code",
   "execution_count": 57,
   "id": "038a4b69-14d1-469f-94f5-9d1514d7cac2",
   "metadata": {},
   "outputs": [
    {
     "name": "stdout",
     "output_type": "stream",
     "text": [
      "Jumlah baris data training :81 \n",
      " Jumlah baris data testing : 39\n"
     ]
    }
   ],
   "source": [
    "dataTerpisah = data1.randomSplit ([0.7, 0.3])\n",
    "train = dataTerpisah [0]\n",
    "\n",
    "# pada data testing, rename label dari \"Label\" ke \"trueLabel\"\n",
    "test = dataTerpisah [1]. withColumnRenamed (\"label\", \"trueLabel\")\n",
    "train_rows = train.count()\n",
    "test_rows = test.count()\n",
    "print (f\"Jumlah baris data training :{train_rows} \\n Jumlah baris data testing : {test_rows}\")"
   ]
  },
  {
   "cell_type": "markdown",
   "id": "a4542c25-b007-4ae7-8c84-460128db90bd",
   "metadata": {
    "tags": []
   },
   "source": [
    "## Menyiapkan data testing"
   ]
  },
  {
   "cell_type": "code",
   "execution_count": 58,
   "id": "3c994287-c6f5-4a03-9ac9-bea6788a19a1",
   "metadata": {},
   "outputs": [
    {
     "name": "stdout",
     "output_type": "stream",
     "text": [
      "+----+--------------------+-----+--------------------+\n",
      "|soal|             jawaban|label|         jawabanWord|\n",
      "+----+--------------------+-----+--------------------+\n",
      "|   1|Tidak, Hanya memb...|100.0|[tidak,, hanya, m...|\n",
      "|   1|tidak, hanya memb...|100.0|[tidak,, hanya, m...|\n",
      "|   1|tidak, hanya memb...|100.0|[tidak,, hanya, m...|\n",
      "|   1|tidak, hanya memb...|100.0|[tidak,, hanya, m...|\n",
      "|   1|tidak, hanya memb...|100.0|[tidak,, hanya, m...|\n",
      "+----+--------------------+-----+--------------------+\n",
      "only showing top 5 rows\n",
      "\n"
     ]
    }
   ],
   "source": [
    "tokenizer = Tokenizer (inputCol = \"jawaban\", outputCol = \"jawabanWord\")\n",
    "tokenizerTrain = tokenizer.transform (train)\n",
    "tokenizerTrain.show (truncate = True, n= 5)"
   ]
  },
  {
   "cell_type": "code",
   "execution_count": 59,
   "id": "8aaee323-7567-4d9c-8801-3626cabca2e4",
   "metadata": {},
   "outputs": [
    {
     "name": "stderr",
     "output_type": "stream",
     "text": [
      "[nltk_data] Downloading package stopwords to\n",
      "[nltk_data]     C:\\Users\\vannesa\\AppData\\Roaming\\nltk_data...\n",
      "[nltk_data]   Package stopwords is already up-to-date!\n"
     ]
    },
    {
     "data": {
      "text/plain": [
       "True"
      ]
     },
     "execution_count": 59,
     "metadata": {},
     "output_type": "execute_result"
    }
   ],
   "source": [
    "import nltk \n",
    "nltk.download ('stopwords')"
   ]
  },
  {
   "cell_type": "code",
   "execution_count": 60,
   "id": "3c2e5f5f-f65c-483a-8ae8-363d5ae9f5b4",
   "metadata": {},
   "outputs": [
    {
     "name": "stdout",
     "output_type": "stream",
     "text": [
      "+----+--------------------+-----+--------------------+--------------------+\n",
      "|soal|             jawaban|label|         jawabanWord|     MeaningfulWords|\n",
      "+----+--------------------+-----+--------------------+--------------------+\n",
      "|   1|Tidak, Hanya memb...|100.0|[tidak,, hanya, m...|[tidak,, membutuh...|\n",
      "|   1|tidak, hanya memb...|100.0|[tidak,, hanya, m...|[tidak,, membutuh...|\n",
      "|   1|tidak, hanya memb...|100.0|[tidak,, hanya, m...|[tidak,, membutuh...|\n",
      "|   1|tidak, hanya memb...|100.0|[tidak,, hanya, m...|[tidak,, membutuh...|\n",
      "|   1|tidak, hanya memb...|100.0|[tidak,, hanya, m...|[tidak,, membutuh...|\n",
      "+----+--------------------+-----+--------------------+--------------------+\n",
      "only showing top 5 rows\n",
      "\n"
     ]
    }
   ],
   "source": [
    "from pyspark import SparkContext \n",
    "from nltk.corpus import stopwords\n",
    "\n",
    "sc = SparkContext.getOrCreate()\n",
    "\n",
    "Stopwords = stopwords.words ('indonesian')\n",
    "\n",
    "swr = StopWordsRemover(inputCol = tokenizer.getOutputCol(), outputCol = \"MeaningfulWords\", stopWords = Stopwords)\n",
    "\n",
    "SwRemovedTrain = swr.transform (tokenizerTrain)\n",
    "SwRemovedTrain.show (truncate = True, n=5)"
   ]
  },
  {
   "cell_type": "code",
   "execution_count": 69,
   "id": "2590d649-a98d-46bb-b827-30b363b5be32",
   "metadata": {},
   "outputs": [
    {
     "name": "stdout",
     "output_type": "stream",
     "text": [
      "+----+--------------------+-----+--------------------+--------------------+-----------+\n",
      "|soal|             jawaban|label|         jawabanWord|     MeaningfulWords|hashedValue|\n",
      "+----+--------------------+-----+--------------------+--------------------+-----------+\n",
      "|   1|Tidak, Hanya memb...|100.0|[tidak,, hanya, m...|[tidak,, membutuh...| 1529302238|\n",
      "|   1|tidak, hanya memb...|100.0|[tidak,, hanya, m...|[tidak,, membutuh...| 1529302238|\n",
      "|   1|tidak, hanya memb...|100.0|[tidak,, hanya, m...|[tidak,, membutuh...| 1529302238|\n",
      "|   1|tidak, hanya memb...|100.0|[tidak,, hanya, m...|[tidak,, membutuh...| 1529302238|\n",
      "|   1|tidak, hanya memb...|100.0|[tidak,, hanya, m...|[tidak,, membutuh...| 1529302238|\n",
      "+----+--------------------+-----+--------------------+--------------------+-----------+\n",
      "only showing top 5 rows\n",
      "\n",
      "+----+-----+--------------------+--------------------+\n",
      "|soal|label|     MeaningfulWords|            features|\n",
      "+----+-----+--------------------+--------------------+\n",
      "|   1|100.0|[tidak,, membutuh...|(262144,[22138,79...|\n",
      "|   1|100.0|[tidak,, membutuh...|(262144,[22138,79...|\n",
      "|   1|100.0|[tidak,, membutuh...|(262144,[22138,79...|\n",
      "+----+-----+--------------------+--------------------+\n",
      "only showing top 3 rows\n",
      "\n"
     ]
    }
   ],
   "source": [
    "# ALS\n",
    "hashedData= SwRemovedTrain.withColumn (\"hashedValue\", hash (\"MeaningfulWords\"))\n",
    "hashedData.show (n = 5)\n",
    "# LinearRegression\n",
    "hashTF = HashingTF (inputCol = swr.getInputCol(), outputCol = \"features\")\n",
    "numericTrain = hashTF.transform (SwRemovedTrain).select ('soal','label', 'MeaningfulWords','features')\n",
    "numericTrain.show (truncate = True, n= 3)"
   ]
  },
  {
   "cell_type": "code",
   "execution_count": 70,
   "id": "0aadd2fa-6cac-40d0-8e2b-d6cd0e4fe56e",
   "metadata": {},
   "outputs": [
    {
     "data": {
      "text/plain": [
       "[('soal', 'int'),\n",
       " ('label', 'float'),\n",
       " ('MeaningfulWords', 'array<string>'),\n",
       " ('features', 'vector')]"
      ]
     },
     "execution_count": 70,
     "metadata": {},
     "output_type": "execute_result"
    }
   ],
   "source": [
    "numericTrain.dtypes"
   ]
  },
  {
   "cell_type": "code",
   "execution_count": 71,
   "id": "19d0f58a-6486-4d7a-8ee2-31181d7e6155",
   "metadata": {},
   "outputs": [
    {
     "data": {
      "text/plain": [
       "DataFrame[soal: int, label: float, MeaningfulWords: array<string>, features: vector]"
      ]
     },
     "execution_count": 71,
     "metadata": {},
     "output_type": "execute_result"
    }
   ],
   "source": [
    "numericTrain.dropna()"
   ]
  },
  {
   "cell_type": "code",
   "execution_count": 72,
   "id": "9bc4c571-c074-4717-9cd5-0fa787b736ff",
   "metadata": {},
   "outputs": [
    {
     "name": "stdout",
     "output_type": "stream",
     "text": [
      "+----+-----+--------------------+--------------------+\n",
      "|soal|label|     MeaningfulWords|            features|\n",
      "+----+-----+--------------------+--------------------+\n",
      "|   1|100.0|[tidak,, membutuh...|(262144,[22138,79...|\n",
      "|   1|100.0|[tidak,, membutuh...|(262144,[22138,79...|\n",
      "|   1|100.0|[tidak,, membutuh...|(262144,[22138,79...|\n",
      "|   1|100.0|[tidak,, membutuh...|(262144,[22138,79...|\n",
      "|   1|100.0|[tidak,, membutuh...|(262144,[22138,79...|\n",
      "|   1|100.0|[tidak,, membutuh...|(262144,[22138,79...|\n",
      "|   1|100.0|[tidak,, membutuh...|(262144,[22138,79...|\n",
      "|   2|84.52|[biaya, dihitung,...|(262144,[18111,56...|\n",
      "|   2|84.52|[biaya, dihitung,...|(262144,[18111,56...|\n",
      "|   2|100.0|[biaya, dihitung,...|(262144,[18111,56...|\n",
      "|   2|100.0|[biaya, dihitung,...|(262144,[18111,56...|\n",
      "|   2|100.0|[biaya, dihitung,...|(262144,[18111,56...|\n",
      "|   2|100.0|[biaya, dihitung,...|(262144,[18111,56...|\n",
      "|   2|42.86|[biaya, dihitung,...|(262144,[23999,26...|\n",
      "|   2|26.73|[perhitungan, biaya]|(262144,[155651,2...|\n",
      "|   3|100.0|[hak, cipta, hak,...|(262144,[462,1515...|\n",
      "|   3|76.06|[hak, cipta, hak,...|(262144,[8954,143...|\n",
      "|   3|83.43|[hak, cipta, hak,...|(262144,[462,1515...|\n",
      "|   3|83.43|[hak, cipta, hak,...|(262144,[462,1515...|\n",
      "|   3|42.16|[hak, hak, khusus...|(262144,[462,9522...|\n",
      "+----+-----+--------------------+--------------------+\n",
      "only showing top 20 rows\n",
      "\n"
     ]
    }
   ],
   "source": [
    "numericTrain.show()"
   ]
  },
  {
   "cell_type": "markdown",
   "id": "ddf5756a-2d14-40ee-87cc-73c1000c60dc",
   "metadata": {
    "tags": []
   },
   "source": [
    "## Mentraining model dengan data training"
   ]
  },
  {
   "cell_type": "code",
   "execution_count": 65,
   "id": "bdefc84f-dd3e-486e-818c-435b01c38467",
   "metadata": {},
   "outputs": [
    {
     "name": "stdout",
     "output_type": "stream",
     "text": [
      "Training selesai\n"
     ]
    }
   ],
   "source": [
    "# linear regression \n",
    "from pyspark.ml.regression import LinearRegression \n",
    "\n",
    "lr = LinearRegression (labelCol = \"label\", featuresCol = \"features\", maxIter = 10, regParam = 0.01)\n",
    "model = lr.fit (numericTrain)\n",
    "print ('Training selesai')"
   ]
  },
  {
   "cell_type": "code",
   "execution_count": 73,
   "id": "dbc7d1f7-db5d-49ad-a7e6-f6647bf1c158",
   "metadata": {},
   "outputs": [
    {
     "name": "stdout",
     "output_type": "stream",
     "text": [
      "Training selesai \n"
     ]
    }
   ],
   "source": [
    "# ALS \n",
    "als = ALS (maxIter = 10, regParam = 0.01, userCol = \"soal\", itemCol = \"hashedValue\", ratingCol = \"label\")\n",
    "model_ALS = als.fit (hashedData)\n",
    "print (\"Training selesai \")"
   ]
  },
  {
   "cell_type": "markdown",
   "id": "dce5505b-e5ac-4817-92f6-442b9ed7d955",
   "metadata": {
    "jp-MarkdownHeadingCollapsed": true,
    "tags": []
   },
   "source": [
    "## Menyiapkan data testing"
   ]
  },
  {
   "cell_type": "code",
   "execution_count": 107,
   "id": "153e960c-b2da-46c5-a67b-6d6ff5616012",
   "metadata": {},
   "outputs": [
    {
     "name": "stdout",
     "output_type": "stream",
     "text": [
      "+---------+--------------------+--------------------+\n",
      "|trueLabel|     MeaningfulWords|            features|\n",
      "+---------+--------------------+--------------------+\n",
      "|     52.7|[tidak,, aplikasi...|(262144,[110797,1...|\n",
      "|    100.0|[tidak,, membutuh...|(262144,[22138,79...|\n",
      "+---------+--------------------+--------------------+\n",
      "only showing top 2 rows\n",
      "\n",
      "+----+--------------------+---------+--------------------+--------------------+-----------+\n",
      "|soal|             jawaban|trueLabel|         jawabanWord|     MeaningfulWords|hashedValue|\n",
      "+----+--------------------+---------+--------------------+--------------------+-----------+\n",
      "|   1|tidak, cuma mengi...|     52.7|[tidak,, cuma, me...|[tidak,, aplikasi...|-1004957661|\n",
      "|   1|tidak, hanya memb...|    100.0|[tidak,, hanya, m...|[tidak,, membutuh...| 1529302238|\n",
      "|   1|tidak, hanya memb...|    100.0|[tidak,, hanya, m...|[tidak,, membutuh...| 1529302238|\n",
      "|   2|Biaya dihitung be...|    100.0|[biaya, dihitung,...|[biaya, dihitung,...|  868079823|\n",
      "|   2|biaya dihitung be...|    100.0|[biaya, dihitung,...|[biaya, dihitung,...|  868079823|\n",
      "+----+--------------------+---------+--------------------+--------------------+-----------+\n",
      "only showing top 5 rows\n",
      "\n"
     ]
    }
   ],
   "source": [
    "# Linear Regression \n",
    "tokenizedTest = tokenizer.transform (test)\n",
    "SwRemovedTest = swr.transform (tokenizedTest)\n",
    "numericTest = hashTF.transform (SwRemovedTest).select ('trueLabel', 'MeaningfulWords','features')\n",
    "numericTest.show (n= 2)\n",
    "\n",
    "# ALS \n",
    "hashedDataTest= SwRemovedTest.withColumn (\"hashedValue\", hash (\"MeaningfulWords\"))\n",
    "hashedDataTest.show (n = 5)"
   ]
  },
  {
   "cell_type": "markdown",
   "id": "da1201ae-d06d-4e72-9278-76c9795fe54c",
   "metadata": {
    "tags": []
   },
   "source": [
    "## Memprediksi dan menghitung akurasi model menggunakan algoritma Linear Regression dan ALS"
   ]
  },
  {
   "cell_type": "code",
   "execution_count": 108,
   "id": "7c3e0852-9df3-469c-be86-d44f93daf75b",
   "metadata": {},
   "outputs": [
    {
     "name": "stdout",
     "output_type": "stream",
     "text": [
      "+--------------------+------------------+---------+\n",
      "|     MeaningfulWords|        prediction|truelabel|\n",
      "+--------------------+------------------+---------+\n",
      "|[tidak,, aplikasi...|  79.8792188552439|     52.7|\n",
      "|[tidak,, membutuh...| 98.57262375514925|    100.0|\n",
      "|[tidak,, membutuh...| 98.57262375514925|    100.0|\n",
      "|[biaya, dihitung,...|100.13572564312118|    100.0|\n",
      "|[biaya, dihitung,...|100.13572564312118|    100.0|\n",
      "|[emperbanyak, cip...| 82.99596695988859|    47.67|\n",
      "|[hak, cipta, hak,...| 90.66035046080486|    91.71|\n",
      "|[hak, cipta, hak,...| 90.66035046080486|    91.71|\n",
      "|[hak, cipta, hak,...| 90.66035046080486|    91.71|\n",
      "|[hak, cipta, hak,...| 90.66035046080486|    91.71|\n",
      "|[klien, huruf, me...| 73.07465920532428|    57.94|\n",
      "|[melindungi, menj...|  74.0765300988127|    74.73|\n",
      "|[melindungi, menj...|  74.0765300988127|    74.73|\n",
      "|[melindungi, menj...|  74.0765300988127|    74.73|\n",
      "|[melindungi, menj...| 74.48630575113266|    74.73|\n",
      "|[melindungi, menj...| 84.66502828443492|    90.27|\n",
      "|[ruang, komputer,...|101.31755117396227|    100.0|\n",
      "|[posisi, tubuh,, ...| 86.16598727764153|    90.37|\n",
      "|[ruang, komputer,...|101.31755117396227|    100.0|\n",
      "|[ruang, komputer,...|101.31755117396227|    100.0|\n",
      "|[ruang, komputer,...|101.31755117396227|    100.0|\n",
      "|[ruang, komputer,...|101.31755117396227|    86.22|\n",
      "|[posisi, kepala, ...| 78.80723067918953|    48.41|\n",
      "|[posisi, kepala, ...|  88.2100119633402|    89.17|\n",
      "|[posisi, kepala, ...|  88.2100119633402|    89.17|\n",
      "|[posisi, kepala, ...|100.05823237141011|    100.0|\n",
      "|[kecocokan, softw...| 67.83989885302579|    65.89|\n",
      "|[kecocokan, softw...| 86.21755934235945|    84.88|\n",
      "|[kecocokan, softw...| 95.76368493990564|    99.31|\n",
      "|[1., fokus, expos...|100.16294980532727|    100.0|\n",
      "|[fokus, exposure,...|61.693300944242054|    50.71|\n",
      "|[fokus, exposure,...| 85.93956162620553|    87.03|\n",
      "|[fokus, exposure,...|  97.5906783724507|    100.0|\n",
      "|[1., peralatan, d...|102.62891973815115|    100.0|\n",
      "|[1., perlengkapan...| 82.63026754468387|    41.99|\n",
      "|[peralatan, dibut...|  79.4946977725494|    80.09|\n",
      "|[peralatan, dibut...| 97.89210041435292|    98.35|\n",
      "|[grafik, prinsip,...| 87.50716535068018|    86.53|\n",
      "|[grafik, prinsip,...| 87.50716535068018|    86.53|\n",
      "+--------------------+------------------+---------+\n",
      "\n"
     ]
    }
   ],
   "source": [
    "# Linear Regression\n",
    "prediksiMentah = model.transform (numericTest)\n",
    "prediksiFinal = prediksiMentah.select ('MeaningfulWords', 'prediction', 'truelabel')\n",
    "prediksiFinal.show (truncate = True, n=40)\n",
    "prediksiBenar = prediksiFinal.filter (prediksiFinal ['prediction'] == prediksiFinal ['trueLabel']).count ()\n",
    "totalData = prediksiFinal.count()\n"
   ]
  },
  {
   "cell_type": "code",
   "execution_count": 78,
   "id": "4f2c81ad-77ac-43ff-a2b1-5010dc17cfa5",
   "metadata": {},
   "outputs": [
    {
     "name": "stdout",
     "output_type": "stream",
     "text": [
      "Nilai RMSE (Root Mean Square Error) adalah 11.593759948657606\n"
     ]
    }
   ],
   "source": [
    "from pyspark.ml.evaluation import RegressionEvaluator \n",
    "\n",
    "evaluator = RegressionEvaluator (labelCol = \"truelabel\", predictionCol = \"prediction\", metricName = 'rmse')\n",
    "rmse = evaluator.evaluate (prediksiFinal)\n",
    "print (f\"Nilai RMSE (Root Mean Square Error) adalah {rmse}\")"
   ]
  },
  {
   "cell_type": "code",
   "execution_count": 79,
   "id": "1a964afc-df1c-4956-9704-2603b8cfb54f",
   "metadata": {},
   "outputs": [
    {
     "name": "stdout",
     "output_type": "stream",
     "text": [
      "+----+--------------------+---------+--------------------+--------------------+-----------+----------+\n",
      "|soal|             jawaban|trueLabel|         jawabanWord|     MeaningfulWords|hashedValue|prediction|\n",
      "+----+--------------------+---------+--------------------+--------------------+-----------+----------+\n",
      "|   1|tidak, cuma mengi...|     52.7|[tidak,, cuma, me...|[tidak,, aplikasi...|-1004957661|       NaN|\n",
      "|   1|tidak, hanya memb...|    100.0|[tidak,, hanya, m...|[tidak,, membutuh...| 1529302238| 99.999886|\n",
      "|   1|tidak, hanya memb...|    100.0|[tidak,, hanya, m...|[tidak,, membutuh...| 1529302238| 99.999886|\n",
      "|   6|Ruang Komputer, P...|    100.0|[ruang, komputer,...|[ruang, komputer,...| 2137504343|  99.99986|\n",
      "|   6|posisi tubuh, pos...|    90.37|[posisi, tubuh,, ...|[posisi, tubuh,, ...|   69233312|       NaN|\n",
      "|   6|ruang komputer, p...|    100.0|[ruang, komputer,...|[ruang, komputer,...| 2137504343|  99.99986|\n",
      "|   6|ruang komputer, p...|    100.0|[ruang, komputer,...|[ruang, komputer,...| 2137504343|  99.99986|\n",
      "|   6|ruang komputer, p...|    100.0|[ruang, komputer,...|[ruang, komputer,...| 2137504343|  99.99986|\n",
      "|   3|emperbanyak cipta...|    47.67|[emperbanyak, cip...|[emperbanyak, cip...|-1984538052|       NaN|\n",
      "|   3|hak cipta adalah ...|    91.71|[hak, cipta, adal...|[hak, cipta, hak,...| 1895378737|       NaN|\n",
      "|   3|hak cipta adalah ...|    91.71|[hak, cipta, adal...|[hak, cipta, hak,...| 1895378737|       NaN|\n",
      "|   3|hak cipta adalah ...|    91.71|[hak, cipta, adal...|[hak, cipta, hak,...| 1895378737|       NaN|\n",
      "|   3|hak cipta adalah ...|    91.71|[hak, cipta, adal...|[hak, cipta, hak,...| 1895378737|       NaN|\n",
      "|   5|melindungi dan me...|    74.73|[melindungi, dan,...|[melindungi, menj...| -178289796|       NaN|\n",
      "|   5|melindungi dan me...|    74.73|[melindungi, dan,...|[melindungi, menj...| -178289796|       NaN|\n",
      "|   5|melindungi dan me...|    74.73|[melindungi, dan,...|[melindungi, menj...| 1195843053|       NaN|\n",
      "|   5|melindungi dan me...|    74.73|[melindungi, dan,...|[melindungi, menj...|-1003149063|  74.72986|\n",
      "|   5|melindungi dan me...|    90.27|[melindungi, dan,...|[melindungi, menj...|-1948497401|       NaN|\n",
      "|   4|dijelaskan kepada...|    57.94|[dijelaskan, kepa...|[klien, huruf, me...|-1452871713|       NaN|\n",
      "|   2|Biaya dihitung be...|    100.0|[biaya, dihitung,...|[biaya, dihitung,...|  868079823|  99.99983|\n",
      "+----+--------------------+---------+--------------------+--------------------+-----------+----------+\n",
      "only showing top 20 rows\n",
      "\n"
     ]
    }
   ],
   "source": [
    "# ALS \n",
    "test_predict_ALS = model_ALS.transform(hashedDataTest)\n",
    "test_predict_ALS.show ()"
   ]
  },
  {
   "cell_type": "code",
   "execution_count": 82,
   "id": "1bb89478-78c7-4a90-b19f-e4433b705409",
   "metadata": {},
   "outputs": [
    {
     "name": "stdout",
     "output_type": "stream",
     "text": [
      "Nilai RMSE (Root Mean Square Error) adalah nan\n"
     ]
    }
   ],
   "source": [
    "evaluator_ALS = RegressionEvaluator (labelCol = \"trueLabel\", predictionCol = \"prediction\", metricName = 'rmse')\n",
    "rmse = evaluator_ALS.evaluate (test_predict_ALS)\n",
    "print (f\"Nilai RMSE (Root Mean Square Error) adalah {rmse}\")"
   ]
  },
  {
   "cell_type": "code",
   "execution_count": 83,
   "id": "6f5c1885-fcd9-4dbc-867d-11ab7f9d1236",
   "metadata": {},
   "outputs": [
    {
     "name": "stdout",
     "output_type": "stream",
     "text": [
      "Sebelum missingvalue dihapus 39 \n",
      " Setelah missing value dihapus 18 \n",
      " Nilai prediction yang kosong sebanyak 21\n"
     ]
    }
   ],
   "source": [
    "testNa = test_predict_ALS.count ()\n",
    "hapusTestNa = test_predict_ALS.dropna (subset = [\"prediction\"], how = \"any\")\n",
    "testNaClean = hapusTestNa.count ()\n",
    "print (f\"Sebelum missingvalue dihapus {testNa} \\n Setelah missing value dihapus {testNaClean} \\n Nilai prediction yang kosong sebanyak {testNa - testNaClean}\" )"
   ]
  },
  {
   "cell_type": "code",
   "execution_count": 85,
   "id": "4c5ef89d-0bfb-4eb0-b41a-46b8837d8b50",
   "metadata": {},
   "outputs": [
    {
     "name": "stdout",
     "output_type": "stream",
     "text": [
      "+----+--------------------+---------+--------------------+--------------------+-----------+----------+\n",
      "|soal|             jawaban|trueLabel|         jawabanWord|     MeaningfulWords|hashedValue|prediction|\n",
      "+----+--------------------+---------+--------------------+--------------------+-----------+----------+\n",
      "|  12|dibuat grafik yan...|    86.53|[dibuat, grafik, ...|[grafik, prinsip,...|-1017500748|  86.52983|\n",
      "|  12|dibuat grafik yan...|    86.53|[dibuat, grafik, ...|[grafik, prinsip,...|-1017500748|  86.52983|\n",
      "|   1|tidak, hanya memb...|    100.0|[tidak,, hanya, m...|[tidak,, membutuh...| 1529302238| 99.999886|\n",
      "|   1|tidak, hanya memb...|    100.0|[tidak,, hanya, m...|[tidak,, membutuh...| 1529302238| 99.999886|\n",
      "|   6|Ruang Komputer, P...|    100.0|[ruang, komputer,...|[ruang, komputer,...| 2137504343|  99.99986|\n",
      "|   6|ruang komputer, p...|    100.0|[ruang, komputer,...|[ruang, komputer,...| 2137504343|  99.99986|\n",
      "|   6|ruang komputer, p...|    100.0|[ruang, komputer,...|[ruang, komputer,...| 2137504343|  99.99986|\n",
      "|   6|ruang komputer, p...|    100.0|[ruang, komputer,...|[ruang, komputer,...| 2137504343|  99.99986|\n",
      "|   5|melindungi dan me...|    74.73|[melindungi, dan,...|[melindungi, menj...|-1003149063|  74.72986|\n",
      "|   9|kecocokan softwar...|    65.89|[kecocokan, softw...|[kecocokan, softw...| -870432238|  65.88986|\n",
      "|   9|kecocokan softwar...|    84.88|[kecocokan, softw...|[kecocokan, softw...|  956485704|  84.87982|\n",
      "|   8|posisi kepala dan...|    89.17|[posisi, kepala, ...|[posisi, kepala, ...|  795622550|  89.16986|\n",
      "|   8|posisi kepala dan...|    89.17|[posisi, kepala, ...|[posisi, kepala, ...|  795622550|  89.16986|\n",
      "|   8|posisi kepala dan...|    100.0|[posisi, kepala, ...|[posisi, kepala, ...| 2057807827|  99.99985|\n",
      "|   7|ruang komputer, p...|    86.22|[ruang, komputer,...|[ruang, komputer,...| 2137504343|-37.500896|\n",
      "|  11|peralatan yang di...|    80.09|[peralatan, yang,...|[peralatan, dibut...| -986193965|  80.08987|\n",
      "|   2|Biaya dihitung be...|    100.0|[biaya, dihitung,...|[biaya, dihitung,...|  868079823|  99.99983|\n",
      "|   2|biaya dihitung be...|    100.0|[biaya, dihitung,...|[biaya, dihitung,...|  868079823|  99.99983|\n",
      "+----+--------------------+---------+--------------------+--------------------+-----------+----------+\n",
      "\n"
     ]
    }
   ],
   "source": [
    "hapusTestNa.show()"
   ]
  },
  {
   "cell_type": "markdown",
   "id": "732af542-a563-48c7-87a5-3e1c053c730e",
   "metadata": {
    "jp-MarkdownHeadingCollapsed": true,
    "tags": []
   },
   "source": [
    "# Praktik Model dengan Data Baru "
   ]
  },
  {
   "cell_type": "code",
   "execution_count": 99,
   "id": "49fcdbff-b25e-47b9-aa6e-8864c144a4b2",
   "metadata": {},
   "outputs": [
    {
     "name": "stdout",
     "output_type": "stream",
     "text": [
      "+----+--------------------+\n",
      "|soal|             jawaban|\n",
      "+----+--------------------+\n",
      "|   1|Software atau per...|\n",
      "|   2|biaya hitung dill...|\n",
      "|   3|hak cipta telah d...|\n",
      "+----+--------------------+\n",
      "only showing top 3 rows\n",
      "\n"
     ]
    }
   ],
   "source": [
    "data_baru = spark.read.option (\"delimiter\", \",\").csv ('data_baru.csv', header = True)\n",
    "data_baru = data_baru.select (col ('soal').cast ('int'), 'jawaban')\n",
    "data_baru.show (n=3)"
   ]
  },
  {
   "cell_type": "markdown",
   "id": "cb9d3034-d512-4555-8841-9ab4c7a51784",
   "metadata": {
    "jp-MarkdownHeadingCollapsed": true,
    "tags": []
   },
   "source": [
    "## ALS "
   ]
  },
  {
   "cell_type": "code",
   "execution_count": 100,
   "id": "c40610c6-2e5f-42e5-b868-30b8c67b2817",
   "metadata": {},
   "outputs": [
    {
     "name": "stdout",
     "output_type": "stream",
     "text": [
      "+----+--------------------+-----------+\n",
      "|soal|             jawaban|hashedValue|\n",
      "+----+--------------------+-----------+\n",
      "|   1|Software atau per...|  614573843|\n",
      "|   2|biaya hitung dill...|-1737552876|\n",
      "|   3|hak cipta telah d...| -522118620|\n",
      "|   4|pada ui ux kompos...| 1287655219|\n",
      "|   5|dalam menciptakan...|  885020834|\n",
      "|   6|komputer, softwar...|   30075393|\n",
      "|   7|suhu udara sangat...| 1921198688|\n",
      "|   8|dalam bahasa php ...|   61102604|\n",
      "|   9|janera dab ekspos...| 1072695114|\n",
      "|  10|operasi kamera di...|-1783918903|\n",
      "|  11|transfer image bi...| 1164721385|\n",
      "|  12|Visualisasi data ...| 2136308032|\n",
      "+----+--------------------+-----------+\n",
      "\n"
     ]
    }
   ],
   "source": [
    "hashedData2 = data_baru.withColumn (\"hashedValue\", hash (\"jawaban\"))\n",
    "hashedData2.select (col('soal').cast ('int'), 'jawaban', 'hashedValue').show()"
   ]
  },
  {
   "cell_type": "code",
   "execution_count": 101,
   "id": "48bfa200-d761-4a3e-9761-468ca3a91614",
   "metadata": {},
   "outputs": [
    {
     "data": {
      "text/plain": [
       "[('soal', 'int'), ('jawaban', 'string'), ('hashedValue', 'int')]"
      ]
     },
     "execution_count": 101,
     "metadata": {},
     "output_type": "execute_result"
    }
   ],
   "source": [
    "hashedData2.dtypes"
   ]
  },
  {
   "cell_type": "code",
   "execution_count": 102,
   "id": "fd9b1e49-4a8d-45ef-b761-ffcb9550af69",
   "metadata": {},
   "outputs": [
    {
     "name": "stdout",
     "output_type": "stream",
     "text": [
      "+----+--------------------+-----------+----------+\n",
      "|soal|             jawaban|hashedValue|prediction|\n",
      "+----+--------------------+-----------+----------+\n",
      "|  12|Visualisasi data ...| 2136308032|       NaN|\n",
      "|   1|Software atau per...|  614573843|       NaN|\n",
      "|   6|komputer, softwar...|   30075393|       NaN|\n",
      "|   3|hak cipta telah d...| -522118620|       NaN|\n",
      "|   5|dalam menciptakan...|  885020834|       NaN|\n",
      "|   9|janera dab ekspos...| 1072695114|       NaN|\n",
      "|   4|pada ui ux kompos...| 1287655219|       NaN|\n",
      "|   8|dalam bahasa php ...|   61102604|       NaN|\n",
      "|   7|suhu udara sangat...| 1921198688|       NaN|\n",
      "|  10|operasi kamera di...|-1783918903|       NaN|\n",
      "|  11|transfer image bi...| 1164721385|       NaN|\n",
      "|   2|biaya hitung dill...|-1737552876|       NaN|\n",
      "+----+--------------------+-----------+----------+\n",
      "\n"
     ]
    }
   ],
   "source": [
    "predict_dataBaru = model_ALS.transform (hashedData2)\n",
    "predict_dataBaru.show()"
   ]
  },
  {
   "cell_type": "markdown",
   "id": "6af8ee12-eee5-467a-8984-edadef01cca6",
   "metadata": {
    "jp-MarkdownHeadingCollapsed": true,
    "tags": []
   },
   "source": [
    "## Linear Regression"
   ]
  },
  {
   "cell_type": "code",
   "execution_count": 120,
   "id": "e76caa6d-d30c-42d4-b338-f025cf613432",
   "metadata": {},
   "outputs": [
    {
     "name": "stdout",
     "output_type": "stream",
     "text": [
      "+--------------------+-----------------+\n",
      "|     MeaningfulWords|       prediction|\n",
      "+--------------------+-----------------+\n",
      "|[software, perang...|76.30296307543964|\n",
      "|[biaya, hitung, d...|54.43178123581619|\n",
      "|[hak, cipta, diat...|75.38342909173426|\n",
      "|[ui, ux, komposis...|70.48831635693952|\n",
      "|[menciptakan, keb...|77.94684631859252|\n",
      "|[komputer,, softw...| 75.9182691179372|\n",
      "|[suhu, udara, ber...| 68.8193460068955|\n",
      "|[bahasa, php, ket...|70.06438087688855|\n",
      "|[janera, dab, eks...| 72.3529435441346|\n",
      "|[operasi, kamera,...|69.76544920634207|\n",
      "|[transfer, image,...|69.79784940146264|\n",
      "|[visualisasi, dat...| 70.9032578664313|\n",
      "+--------------------+-----------------+\n",
      "\n"
     ]
    }
   ],
   "source": [
    "tokenizer_db = Tokenizer (inputCol = \"jawaban\", outputCol = \"jawabanWord\")\n",
    "tokenizer_dataBaru = tokenizer.transform (data_baru)\n",
    "# tokenizer_dataBaru.show (truncate = True, n= 5)\n",
    "swr_db = StopWordsRemover(inputCol = tokenizer_db.getOutputCol(), outputCol = \"MeaningfulWords\", stopWords = Stopwords)\n",
    "SwRemoved_dataBaru = swr_db.transform (tokenizer_dataBaru)\n",
    "# SwRemoved_dataBaru.show (truncate = True, n=5)\n",
    "hashTF_db = HashingTF (inputCol = swr_db.getInputCol(), outputCol = \"features\")\n",
    "numeric_db = hashTF_db.transform (SwRemoved_dataBaru).select ('MeaningfulWords','features')\n",
    "# numeric_db.show (n= 2)\n",
    "prediksi_dataBaru = model.transform (numeric_db)\n",
    "prediksi_dataBaru.select ('MeaningfulWords', 'prediction').show()"
   ]
  },
  {
   "cell_type": "code",
   "execution_count": 116,
   "id": "38566aac-efd2-49e8-8f89-f3844e23a08e",
   "metadata": {},
   "outputs": [
    {
     "name": "stdout",
     "output_type": "stream",
     "text": [
      "+----+--------------------+--------------------+\n",
      "|soal|             jawaban|         jawabanWord|\n",
      "+----+--------------------+--------------------+\n",
      "|   1|Software atau per...|[software, atau, ...|\n",
      "|   2|biaya hitung dill...|[biaya, hitung, d...|\n",
      "|   3|hak cipta telah d...|[hak, cipta, tela...|\n",
      "|   4|pada ui ux kompos...|[pada, ui, ux, ko...|\n",
      "|   5|dalam menciptakan...|[dalam, menciptak...|\n",
      "|   6|komputer, softwar...|[komputer,, softw...|\n",
      "|   7|suhu udara sangat...|[suhu, udara, san...|\n",
      "|   8|dalam bahasa php ...|[dalam, bahasa, p...|\n",
      "|   9|janera dab ekspos...|[janera, dab, eks...|\n",
      "|  10|operasi kamera di...|[operasi, kamera,...|\n",
      "|  11|transfer image bi...|[transfer, image,...|\n",
      "|  12|Visualisasi data ...|[visualisasi, dat...|\n",
      "+----+--------------------+--------------------+\n",
      "\n"
     ]
    }
   ],
   "source": [
    "tokenizer_dataBaru.show()"
   ]
  },
  {
   "cell_type": "code",
   "execution_count": 117,
   "id": "9b4ade8a-d8ef-4793-a137-4ef1ee9d8511",
   "metadata": {},
   "outputs": [
    {
     "name": "stdout",
     "output_type": "stream",
     "text": [
      "+----+--------------------+--------------------+--------------------+\n",
      "|soal|             jawaban|         jawabanWord|     MeaningfulWords|\n",
      "+----+--------------------+--------------------+--------------------+\n",
      "|   1|Software atau per...|[software, atau, ...|[software, perang...|\n",
      "|   2|biaya hitung dill...|[biaya, hitung, d...|[biaya, hitung, d...|\n",
      "|   3|hak cipta telah d...|[hak, cipta, tela...|[hak, cipta, diat...|\n",
      "|   4|pada ui ux kompos...|[pada, ui, ux, ko...|[ui, ux, komposis...|\n",
      "|   5|dalam menciptakan...|[dalam, menciptak...|[menciptakan, keb...|\n",
      "+----+--------------------+--------------------+--------------------+\n",
      "only showing top 5 rows\n",
      "\n"
     ]
    }
   ],
   "source": [
    "SwRemoved_dataBaru.show (truncate = True, n=5)"
   ]
  },
  {
   "cell_type": "code",
   "execution_count": 118,
   "id": "6461e66c-5dfa-4dac-8c87-e54960066eb1",
   "metadata": {},
   "outputs": [
    {
     "name": "stdout",
     "output_type": "stream",
     "text": [
      "+--------------------+--------------------+\n",
      "|     MeaningfulWords|            features|\n",
      "+--------------------+--------------------+\n",
      "|[software, perang...|(262144,[13851,21...|\n",
      "|[biaya, hitung, d...|(262144,[44454,45...|\n",
      "+--------------------+--------------------+\n",
      "only showing top 2 rows\n",
      "\n"
     ]
    }
   ],
   "source": [
    "numeric_db.show (n= 2)"
   ]
  },
  {
   "cell_type": "code",
   "execution_count": null,
   "id": "aa9ee856-96ca-4819-8112-9622340890e0",
   "metadata": {},
   "outputs": [],
   "source": []
  }
 ],
 "metadata": {
  "kernelspec": {
   "display_name": "Python 3 (ipykernel)",
   "language": "python",
   "name": "python3"
  },
  "language_info": {
   "codemirror_mode": {
    "name": "ipython",
    "version": 3
   },
   "file_extension": ".py",
   "mimetype": "text/x-python",
   "name": "python",
   "nbconvert_exporter": "python",
   "pygments_lexer": "ipython3",
   "version": "3.9.12"
  }
 },
 "nbformat": 4,
 "nbformat_minor": 5
}
